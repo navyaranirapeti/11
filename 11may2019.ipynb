{
 "cells": [
  {
   "cell_type": "markdown",
   "metadata": {},
   "source": [
    "# towers of honoi"
   ]
  },
  {
   "cell_type": "code",
   "execution_count": null,
   "metadata": {},
   "outputs": [],
   "source": [
    "  \n",
    "def TowerOfHanoi(n , from_rod, to_rod, aux_rod): \n",
    "    if n == 1: \n",
    "        print (\"Move disk 1 from rod\",from_rod,\"to rod\",to_rod) \n",
    "        return\n",
    "    TowerOfHanoi(n-1, from_rod, aux_rod, to_rod) \n",
    "    print (\"Move disk\",n,\"from rod\",from_rod,\"to rod\",to_rod )\n",
    "    TowerOfHanoi(n-1, aux_rod, to_rod, from_rod) "
   ]
  },
  {
   "cell_type": "code",
   "execution_count": null,
   "metadata": {},
   "outputs": [],
   "source": [
    "print(\"hello\")"
   ]
  },
  {
   "cell_type": "code",
   "execution_count": null,
   "metadata": {},
   "outputs": [],
   "source": []
  }
 ],
 "metadata": {
  "kernelspec": {
   "display_name": "Python 3",
   "language": "python",
   "name": "python3"
  },
  "language_info": {
   "codemirror_mode": {
    "name": "ipython",
    "version": 3
   },
   "file_extension": ".py",
   "mimetype": "text/x-python",
   "name": "python",
   "nbconvert_exporter": "python",
   "pygments_lexer": "ipython3",
   "version": "3.7.3"
  }
 },
 "nbformat": 4,
 "nbformat_minor": 2
}
