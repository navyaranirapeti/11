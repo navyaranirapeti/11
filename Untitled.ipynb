{
  "nbformat": 4,
  "nbformat_minor": 0,
  "metadata": {
    "kernelspec": {
      "display_name": "Python 3",
      "language": "python",
      "name": "python3"
    },
    "language_info": {
      "codemirror_mode": {
        "name": "ipython",
        "version": 3
      },
      "file_extension": ".py",
      "mimetype": "text/x-python",
      "name": "python",
      "nbconvert_exporter": "python",
      "pygments_lexer": "ipython3",
      "version": "3.7.3"
    },
    "colab": {
      "name": "Untitled.ipynb",
      "version": "0.3.2",
      "provenance": [],
      "include_colab_link": true
    }
  },
  "cells": [
    {
      "cell_type": "markdown",
      "metadata": {
        "id": "view-in-github",
        "colab_type": "text"
      },
      "source": [
        "<a href=\"https://colab.research.google.com/github/navyaranirapeti/11/blob/master/Untitled.ipynb\" target=\"_parent\"><img src=\"https://colab.research.google.com/assets/colab-badge.svg\" alt=\"Open In Colab\"/></a>"
      ]
    },
    {
      "cell_type": "markdown",
      "metadata": {
        "id": "B4vtFOoFatvt",
        "colab_type": "text"
      },
      "source": [
        "41325\n",
        "\n",
        "Output:\n",
        "\n",
        "|****\n",
        "\n",
        "|*\n",
        "\n",
        "|***\n",
        "\n",
        "|**\n",
        "\n",
        "|*****"
      ]
    },
    {
      "cell_type": "code",
      "metadata": {
        "id": "fu6hpXyKatvy",
        "colab_type": "code",
        "colab": {},
        "outputId": "0a436590-6ec5-4fa7-e33d-c40d9eb251c3"
      },
      "source": [
        "def convert(n):\n",
        "    l1=[]\n",
        "    k=str(n)\n",
        "    buffer=n\n",
        "    while(n!=0):\n",
        "        (r)=str(n%10)\n",
        "        l1.append(r)\n",
        "        n=n//10\n",
        "    print(l1)\n",
        "    for i in l1:\n",
        "        p=ord(i)-48\n",
        "        print(\"|\",end=\"\")\n",
        "        for i in range(0,p):\n",
        "            print(\"*\",end=\"\")\n",
        "        print()\n",
        "    return\n",
        "convert(41325)\n",
        "convert(60710)"
      ],
      "execution_count": 0,
      "outputs": [
        {
          "output_type": "stream",
          "text": [
            "['5', '2', '3', '1', '4']\n",
            "|*****\n",
            "|**\n",
            "|***\n",
            "|*\n",
            "|****\n",
            "['0', '1', '7', '0', '6']\n",
            "|\n",
            "|*\n",
            "|*******\n",
            "|\n",
            "|******\n"
          ],
          "name": "stdout"
        }
      ]
    },
    {
      "cell_type": "markdown",
      "metadata": {
        "id": "FL6K1E1PatwN",
        "colab_type": "text"
      },
      "source": [
        "9. Your Program need to accept two strings and generate the output in merging of both strings.\n",
        "\n",
        "Input1: abc xyz\n",
        "\n",
        " axbycz\n",
        "\n",
        "Input2: ab ssd\n",
        "\n",
        " asbsd\n",
        "\n",
        "Input3: abcd ssi\n",
        "\n",
        " asbscid"
      ]
    },
    {
      "cell_type": "code",
      "metadata": {
        "id": "jKDC1rwVatwR",
        "colab_type": "code",
        "colab": {},
        "outputId": "d0c9cdcc-9cf7-4692-db53-aad53fc854ac"
      },
      "source": [
        "def merging(n):\n",
        "    print(n)\n",
        "    l2=list(n)\n",
        "    for i in l2:\n",
        "        if(ord(i)==32):\n",
        "            r=i+1\n",
        "    print(l2)\n",
        "    print(r)\n",
        "    return\n",
        "merging(\"abc nn\")"
      ],
      "execution_count": 0,
      "outputs": [
        {
          "output_type": "stream",
          "text": [
            "abc nn\n"
          ],
          "name": "stdout"
        },
        {
          "output_type": "error",
          "ename": "TypeError",
          "evalue": "can only concatenate str (not \"int\") to str",
          "traceback": [
            "\u001b[1;31m---------------------------------------------------------------------------\u001b[0m",
            "\u001b[1;31mTypeError\u001b[0m                                 Traceback (most recent call last)",
            "\u001b[1;32m<ipython-input-47-87b822a4ed42>\u001b[0m in \u001b[0;36m<module>\u001b[1;34m\u001b[0m\n\u001b[0;32m      8\u001b[0m     \u001b[0mprint\u001b[0m\u001b[1;33m(\u001b[0m\u001b[0mr\u001b[0m\u001b[1;33m)\u001b[0m\u001b[1;33m\u001b[0m\u001b[1;33m\u001b[0m\u001b[0m\n\u001b[0;32m      9\u001b[0m     \u001b[1;32mreturn\u001b[0m\u001b[1;33m\u001b[0m\u001b[1;33m\u001b[0m\u001b[0m\n\u001b[1;32m---> 10\u001b[1;33m \u001b[0mmerging\u001b[0m\u001b[1;33m(\u001b[0m\u001b[1;34m\"abc nn\"\u001b[0m\u001b[1;33m)\u001b[0m\u001b[1;33m\u001b[0m\u001b[1;33m\u001b[0m\u001b[0m\n\u001b[0m",
            "\u001b[1;32m<ipython-input-47-87b822a4ed42>\u001b[0m in \u001b[0;36mmerging\u001b[1;34m(n)\u001b[0m\n\u001b[0;32m      4\u001b[0m     \u001b[1;32mfor\u001b[0m \u001b[0mi\u001b[0m \u001b[1;32min\u001b[0m \u001b[0ml2\u001b[0m\u001b[1;33m:\u001b[0m\u001b[1;33m\u001b[0m\u001b[1;33m\u001b[0m\u001b[0m\n\u001b[0;32m      5\u001b[0m         \u001b[1;32mif\u001b[0m\u001b[1;33m(\u001b[0m\u001b[0mord\u001b[0m\u001b[1;33m(\u001b[0m\u001b[0mi\u001b[0m\u001b[1;33m)\u001b[0m\u001b[1;33m==\u001b[0m\u001b[1;36m32\u001b[0m\u001b[1;33m)\u001b[0m\u001b[1;33m:\u001b[0m\u001b[1;33m\u001b[0m\u001b[1;33m\u001b[0m\u001b[0m\n\u001b[1;32m----> 6\u001b[1;33m             \u001b[0mr\u001b[0m\u001b[1;33m=\u001b[0m\u001b[0mi\u001b[0m\u001b[1;33m+\u001b[0m\u001b[1;36m1\u001b[0m\u001b[1;33m\u001b[0m\u001b[1;33m\u001b[0m\u001b[0m\n\u001b[0m\u001b[0;32m      7\u001b[0m     \u001b[0mprint\u001b[0m\u001b[1;33m(\u001b[0m\u001b[0ml2\u001b[0m\u001b[1;33m)\u001b[0m\u001b[1;33m\u001b[0m\u001b[1;33m\u001b[0m\u001b[0m\n\u001b[0;32m      8\u001b[0m     \u001b[0mprint\u001b[0m\u001b[1;33m(\u001b[0m\u001b[0mr\u001b[0m\u001b[1;33m)\u001b[0m\u001b[1;33m\u001b[0m\u001b[1;33m\u001b[0m\u001b[0m\n",
            "\u001b[1;31mTypeError\u001b[0m: can only concatenate str (not \"int\") to str"
          ]
        }
      ]
    },
    {
      "cell_type": "code",
      "metadata": {
        "id": "gc8od6Thatwf",
        "colab_type": "code",
        "colab": {},
        "outputId": "0a6d16c7-8c11-418b-e7e9-ac52b3a32b04"
      },
      "source": [
        "def function(n):\n",
        "    print(n)\n",
        "    l2=list(n)\n",
        "    for i in range(0,len(l2)):\n",
        "        if(ord(l2[i])==32):\n",
        "            \n",
        "        \n",
        "    return\n",
        "function(\"abc dc\")"
      ],
      "execution_count": 0,
      "outputs": [
        {
          "output_type": "stream",
          "text": [
            "abc dc\n"
          ],
          "name": "stdout"
        },
        {
          "output_type": "error",
          "ename": "UnboundLocalError",
          "evalue": "local variable 'r' referenced before assignment",
          "traceback": [
            "\u001b[1;31m---------------------------------------------------------------------------\u001b[0m",
            "\u001b[1;31mUnboundLocalError\u001b[0m                         Traceback (most recent call last)",
            "\u001b[1;32m<ipython-input-69-65c334894a4b>\u001b[0m in \u001b[0;36m<module>\u001b[1;34m\u001b[0m\n\u001b[0;32m      7\u001b[0m         \u001b[0mprint\u001b[0m\u001b[1;33m(\u001b[0m\u001b[0mr\u001b[0m\u001b[1;33m)\u001b[0m\u001b[1;33m\u001b[0m\u001b[1;33m\u001b[0m\u001b[0m\n\u001b[0;32m      8\u001b[0m     \u001b[1;32mreturn\u001b[0m\u001b[1;33m\u001b[0m\u001b[1;33m\u001b[0m\u001b[0m\n\u001b[1;32m----> 9\u001b[1;33m \u001b[0mfunction\u001b[0m\u001b[1;33m(\u001b[0m\u001b[1;34m\"abc dc\"\u001b[0m\u001b[1;33m)\u001b[0m\u001b[1;33m\u001b[0m\u001b[1;33m\u001b[0m\u001b[0m\n\u001b[0m",
            "\u001b[1;32m<ipython-input-69-65c334894a4b>\u001b[0m in \u001b[0;36mfunction\u001b[1;34m(n)\u001b[0m\n\u001b[0;32m      5\u001b[0m         \u001b[1;32mif\u001b[0m\u001b[1;33m(\u001b[0m\u001b[0mord\u001b[0m\u001b[1;33m(\u001b[0m\u001b[0ml2\u001b[0m\u001b[1;33m[\u001b[0m\u001b[0mi\u001b[0m\u001b[1;33m]\u001b[0m\u001b[1;33m)\u001b[0m\u001b[1;33m==\u001b[0m\u001b[1;36m32\u001b[0m\u001b[1;33m)\u001b[0m\u001b[1;33m:\u001b[0m\u001b[1;33m\u001b[0m\u001b[1;33m\u001b[0m\u001b[0m\n\u001b[0;32m      6\u001b[0m             \u001b[0mr\u001b[0m\u001b[1;33m=\u001b[0m\u001b[0mi\u001b[0m\u001b[1;33m\u001b[0m\u001b[1;33m\u001b[0m\u001b[0m\n\u001b[1;32m----> 7\u001b[1;33m         \u001b[0mprint\u001b[0m\u001b[1;33m(\u001b[0m\u001b[0mr\u001b[0m\u001b[1;33m)\u001b[0m\u001b[1;33m\u001b[0m\u001b[1;33m\u001b[0m\u001b[0m\n\u001b[0m\u001b[0;32m      8\u001b[0m     \u001b[1;32mreturn\u001b[0m\u001b[1;33m\u001b[0m\u001b[1;33m\u001b[0m\u001b[0m\n\u001b[0;32m      9\u001b[0m \u001b[0mfunction\u001b[0m\u001b[1;33m(\u001b[0m\u001b[1;34m\"abc dc\"\u001b[0m\u001b[1;33m)\u001b[0m\u001b[1;33m\u001b[0m\u001b[1;33m\u001b[0m\u001b[0m\n",
            "\u001b[1;31mUnboundLocalError\u001b[0m: local variable 'r' referenced before assignment"
          ]
        }
      ]
    },
    {
      "cell_type": "code",
      "metadata": {
        "id": "HcZMNlYPatwp",
        "colab_type": "code",
        "colab": {},
        "outputId": "adee2bc1-0c2b-4395-cc28-8e7260e0d1a9"
      },
      "source": [
        "n=\"abc de\"\n",
        "n.split(\" \")"
      ],
      "execution_count": 0,
      "outputs": [
        {
          "output_type": "execute_result",
          "data": {
            "text/plain": [
              "['abc', 'de']"
            ]
          },
          "metadata": {
            "tags": []
          },
          "execution_count": 70
        }
      ]
    },
    {
      "cell_type": "code",
      "metadata": {
        "id": "ZvArJcUyatw5",
        "colab_type": "code",
        "colab": {},
        "outputId": "5989c792-f929-4fb6-8e50-765434da71e2"
      },
      "source": [
        "def fun(n):\n",
        "    li=list(n.split(\" \"))\n",
        "    l1=list(li[0])\n",
        "    l2=list(li[1])\n",
        "    print(l2.join(l1))\n",
        "    return \n",
        "fun(\"abc xyz\")\n",
        "#fun(\"ab ssd\")"
      ],
      "execution_count": 0,
      "outputs": [
        {
          "output_type": "error",
          "ename": "AttributeError",
          "evalue": "'list' object has no attribute 'join'",
          "traceback": [
            "\u001b[1;31m---------------------------------------------------------------------------\u001b[0m",
            "\u001b[1;31mAttributeError\u001b[0m                            Traceback (most recent call last)",
            "\u001b[1;32m<ipython-input-95-191d70ea58e3>\u001b[0m in \u001b[0;36m<module>\u001b[1;34m\u001b[0m\n\u001b[0;32m      5\u001b[0m     \u001b[0mprint\u001b[0m\u001b[1;33m(\u001b[0m\u001b[0ml2\u001b[0m\u001b[1;33m.\u001b[0m\u001b[0mjoin\u001b[0m\u001b[1;33m(\u001b[0m\u001b[0ml1\u001b[0m\u001b[1;33m)\u001b[0m\u001b[1;33m)\u001b[0m\u001b[1;33m\u001b[0m\u001b[1;33m\u001b[0m\u001b[0m\n\u001b[0;32m      6\u001b[0m     \u001b[1;32mreturn\u001b[0m\u001b[1;33m\u001b[0m\u001b[1;33m\u001b[0m\u001b[0m\n\u001b[1;32m----> 7\u001b[1;33m \u001b[0mfun\u001b[0m\u001b[1;33m(\u001b[0m\u001b[1;34m\"abc xyz\"\u001b[0m\u001b[1;33m)\u001b[0m\u001b[1;33m\u001b[0m\u001b[1;33m\u001b[0m\u001b[0m\n\u001b[0m\u001b[0;32m      8\u001b[0m \u001b[1;31m#fun(\"ab ssd\")\u001b[0m\u001b[1;33m\u001b[0m\u001b[1;33m\u001b[0m\u001b[1;33m\u001b[0m\u001b[0m\n",
            "\u001b[1;32m<ipython-input-95-191d70ea58e3>\u001b[0m in \u001b[0;36mfun\u001b[1;34m(n)\u001b[0m\n\u001b[0;32m      3\u001b[0m     \u001b[0ml1\u001b[0m\u001b[1;33m=\u001b[0m\u001b[0mlist\u001b[0m\u001b[1;33m(\u001b[0m\u001b[0mli\u001b[0m\u001b[1;33m[\u001b[0m\u001b[1;36m0\u001b[0m\u001b[1;33m]\u001b[0m\u001b[1;33m)\u001b[0m\u001b[1;33m\u001b[0m\u001b[1;33m\u001b[0m\u001b[0m\n\u001b[0;32m      4\u001b[0m     \u001b[0ml2\u001b[0m\u001b[1;33m=\u001b[0m\u001b[0mlist\u001b[0m\u001b[1;33m(\u001b[0m\u001b[0mli\u001b[0m\u001b[1;33m[\u001b[0m\u001b[1;36m1\u001b[0m\u001b[1;33m]\u001b[0m\u001b[1;33m)\u001b[0m\u001b[1;33m\u001b[0m\u001b[1;33m\u001b[0m\u001b[0m\n\u001b[1;32m----> 5\u001b[1;33m     \u001b[0mprint\u001b[0m\u001b[1;33m(\u001b[0m\u001b[0ml2\u001b[0m\u001b[1;33m.\u001b[0m\u001b[0mjoin\u001b[0m\u001b[1;33m(\u001b[0m\u001b[0ml1\u001b[0m\u001b[1;33m)\u001b[0m\u001b[1;33m)\u001b[0m\u001b[1;33m\u001b[0m\u001b[1;33m\u001b[0m\u001b[0m\n\u001b[0m\u001b[0;32m      6\u001b[0m     \u001b[1;32mreturn\u001b[0m\u001b[1;33m\u001b[0m\u001b[1;33m\u001b[0m\u001b[0m\n\u001b[0;32m      7\u001b[0m \u001b[0mfun\u001b[0m\u001b[1;33m(\u001b[0m\u001b[1;34m\"abc xyz\"\u001b[0m\u001b[1;33m)\u001b[0m\u001b[1;33m\u001b[0m\u001b[1;33m\u001b[0m\u001b[0m\n",
            "\u001b[1;31mAttributeError\u001b[0m: 'list' object has no attribute 'join'"
          ]
        }
      ]
    },
    {
      "cell_type": "code",
      "metadata": {
        "id": "LoLwdRlzatxG",
        "colab_type": "code",
        "colab": {},
        "outputId": "3199ae18-24a6-4ba5-83e4-a9569c5d6eba"
      },
      "source": [
        "def gg(n):\n",
        "    s1=n.split(\" \")\n",
        "    print(s1)\n",
        "    l1=list(s1[0])\n",
        "    l2=list(s1[1])\n",
        "    r=min(len(l1),len(l2))\n",
        "    print(r)\n",
        "    g=max(len(l1),len(l2))\n",
        "    print(g)\n",
        "    for i in range(0,g):\n",
        "        print(l1[i],l2[i],end='')\n",
        "    for i in range(r,g):\n",
        "        print(l1[i])\n",
        "    return\n",
        "gg(\"abc fed\")\n",
        "#gg(\"ab ssd\")"
      ],
      "execution_count": 0,
      "outputs": [
        {
          "output_type": "stream",
          "text": [
            "['abc', 'fed']\n",
            "3\n",
            "3\n",
            "a fb ec d"
          ],
          "name": "stdout"
        }
      ]
    },
    {
      "cell_type": "code",
      "metadata": {
        "id": "aqUxLt6yatxT",
        "colab_type": "code",
        "colab": {},
        "outputId": "b7450f1c-a88e-4b61-8e2c-3d2f6f1ce4ae"
      },
      "source": [
        "str1 = \"abc de\"\n",
        "s1 = str1.split()\n",
        "str2 = s1[0]\n",
        "str3 = s1[1]\n",
        "if(len(str2)==len(str3)):\n",
        "    for i in range(0,len(str2)):\n",
        "        print(str2[i],\"\",str3[i])\n",
        "elif(len(str2)<len(str3)):\n",
        "    for i in range(0,len(str2)):\n",
        "        print(str2[i],\"\",str3[i])\n",
        "    for j in range(i+1,len(str3)):\n",
        "        print(str2[j])\n",
        "else:\n",
        "    for i in range(0,len(str3)):\n",
        "        print(str2[i],\"\",str3[i])\n",
        "    for j in range(i+1,len(str2)):\n",
        "        print(str2[j])\n",
        "#for i in range(0,len(str2)+1):\n",
        " #   print(str2[i],\" \",str3[i])"
      ],
      "execution_count": 0,
      "outputs": [
        {
          "output_type": "stream",
          "text": [
            "a  d\n",
            "b  e\n",
            "c\n"
          ],
          "name": "stdout"
        }
      ]
    },
    {
      "cell_type": "code",
      "metadata": {
        "id": "2qKsxxqWatxh",
        "colab_type": "code",
        "colab": {},
        "outputId": "9f85069e-0c45-4793-8445-c0173f21da84"
      },
      "source": [
        "def gef(n):\n",
        "    s1 = str1.split()\n",
        "    str2 = s1[0]\n",
        "    str3 = s1[1]\n",
        "    if(len(str2)==len(str3)):\n",
        "        for i in range(0,len(str2)):\n",
        "            print(str2[i],\"\",str3[i])\n",
        "    elif(len(str2)<len(str3)):\n",
        "        for i in range(0,len(str2)):\n",
        "            print(str2[i],\"\",str3[i])\n",
        "        for j in range(i+1,len(str3)):\n",
        "            print(str2[j])\n",
        "    else:\n",
        "        for i in range(0,len(str3)):\n",
        "            print(str2[i],\"\",str3[i])\n",
        "        for j in range(i+1,len(str2)):\n",
        "            print(str2[j])\n",
        "    return\n",
        "print(gef(\"abc xyz\"))\n",
        "print(gef(\"abc de\"))\n",
        "print(gef(\"ef ghi\"))"
      ],
      "execution_count": 0,
      "outputs": [
        {
          "output_type": "stream",
          "text": [
            "a  d\n",
            "b  e\n",
            "c\n",
            "None\n",
            "a  d\n",
            "b  e\n",
            "c\n",
            "None\n",
            "a  d\n",
            "b  e\n",
            "c\n",
            "None\n"
          ],
          "name": "stdout"
        }
      ]
    },
    {
      "cell_type": "code",
      "metadata": {
        "id": "X2c6ziiYatx1",
        "colab_type": "code",
        "colab": {}
      },
      "source": [
        ""
      ],
      "execution_count": 0,
      "outputs": []
    }
  ]
}